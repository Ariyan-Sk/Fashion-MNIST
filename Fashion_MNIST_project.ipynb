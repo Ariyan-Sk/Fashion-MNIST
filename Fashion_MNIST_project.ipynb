{
  "nbformat": 4,
  "nbformat_minor": 0,
  "metadata": {
    "language_info": {
      "codemirror_mode": {
        "name": "ipython",
        "version": 3
      },
      "file_extension": ".py",
      "mimetype": "text/x-python",
      "name": "python",
      "nbconvert_exporter": "python",
      "pygments_lexer": "ipython3",
      "version": "3.9.5"
    },
    "orig_nbformat": 2,
    "kernelspec": {
      "name": "python395jvsc74a57bd0c61219dfc30a4fae8801e3fbce178b4d40495f166cf9e024158775ff2aaa7414",
      "display_name": "Python 3.9.5 64-bit"
    },
    "metadata": {
      "interpreter": {
        "hash": "c61219dfc30a4fae8801e3fbce178b4d40495f166cf9e024158775ff2aaa7414"
      }
    },
    "colab": {
      "name": "Fashion MNIST project.ipynb",
      "provenance": [],
      "collapsed_sections": []
    }
  },
  "cells": [
    {
      "cell_type": "markdown",
      "metadata": {
        "id": "j7xDsUZ5W1jx"
      },
      "source": [
        "# Clothing Item Classification using Convolutional Neural Network\n",
        "\n",
        "### The Model is trained over Fashion MNIST dataset\n",
        "\n",
        "\n",
        "For model Training we are using Fashion MNIST dataset which have total of 70,000 small square 28×28 pixel grayscale images of cloting 60,000 for training and 10,000 for testing the model. It has 9 classes and name of each class is mentioned below."
      ]
    },
    {
      "cell_type": "code",
      "metadata": {
        "id": "Fwo_tGEqW1jz"
      },
      "source": [
        "# Import TensorFlow and TensorFlow Datasets\n",
        "import tensorflow as tf\n",
        "import tensorflow_datasets as tfds\n",
        "tfds.disable_progress_bar()"
      ],
      "execution_count": 1,
      "outputs": []
    },
    {
      "cell_type": "code",
      "metadata": {
        "id": "pDDQ7U8CW1jz"
      },
      "source": [
        "# Importing some helper libraries\n",
        "import os\n",
        "import requests\n",
        "import zipfile\n",
        "import math\n",
        "import numpy as np\n",
        "import matplotlib.pyplot as plt\n",
        "from random import randint"
      ],
      "execution_count": 2,
      "outputs": []
    },
    {
      "cell_type": "markdown",
      "metadata": {
        "id": "H3ajxRqYW1jz"
      },
      "source": [
        "## Initialising the dataset\n",
        "Lets load the `Fashion MNIST` dataset using `tfds.load()` function and then extact out the actual dataset and the metada.\n",
        "Now extacting the training_dataset and test_dataset from the whole dataset."
      ]
    },
    {
      "cell_type": "code",
      "metadata": {
        "id": "n78Bn0haW1j0",
        "colab": {
          "base_uri": "https://localhost:8080/"
        },
        "outputId": "d8b81beb-2442-4887-bc46-02a425adf5ed"
      },
      "source": [
        "dataset, metadata = tfds.load('fashion_mnist', as_supervised=True, with_info=True)\n",
        "train_dataset, test_dataset = dataset['train'], dataset['test']"
      ],
      "execution_count": 3,
      "outputs": [
        {
          "output_type": "stream",
          "name": "stdout",
          "text": [
            "\u001b[1mDownloading and preparing dataset fashion_mnist/3.0.1 (download: 29.45 MiB, generated: 36.42 MiB, total: 65.87 MiB) to /root/tensorflow_datasets/fashion_mnist/3.0.1...\u001b[0m\n",
            "Shuffling and writing examples to /root/tensorflow_datasets/fashion_mnist/3.0.1.incomplete1C53HZ/fashion_mnist-train.tfrecord\n",
            "Shuffling and writing examples to /root/tensorflow_datasets/fashion_mnist/3.0.1.incomplete1C53HZ/fashion_mnist-test.tfrecord\n",
            "\u001b[1mDataset fashion_mnist downloaded and prepared to /root/tensorflow_datasets/fashion_mnist/3.0.1. Subsequent calls will reuse this data.\u001b[0m\n"
          ]
        }
      ]
    },
    {
      "cell_type": "code",
      "metadata": {
        "id": "5r6Fh0uNW1j0"
      },
      "source": [
        "# Define the name of each class of the dataset\n",
        "\n",
        "class_names = ['T-shirt/top', 'Trouser', 'Pullover', 'Dress', 'Coat',\n",
        "               'Sandal',      'Shirt',   'Sneaker',  'Bag',   'Ankle boot']"
      ],
      "execution_count": 4,
      "outputs": []
    },
    {
      "cell_type": "code",
      "metadata": {
        "colab": {
          "base_uri": "https://localhost:8080/"
        },
        "id": "-YnM7856W1j0",
        "outputId": "c24b57f2-f5c3-4d5e-96e1-34f551b46891"
      },
      "source": [
        "num_train_examples = metadata.splits['train'].num_examples\n",
        "num_test_examples = metadata.splits['test'].num_examples\n",
        "print(\"Number of training examples: {}\".format(num_train_examples))\n",
        "print(\"Number of test examples:     {}\".format(num_test_examples))"
      ],
      "execution_count": 5,
      "outputs": [
        {
          "output_type": "stream",
          "name": "stdout",
          "text": [
            "Number of training examples: 60000\n",
            "Number of test examples:     10000\n"
          ]
        }
      ]
    },
    {
      "cell_type": "markdown",
      "metadata": {
        "id": "xN6V9w4zW1j1"
      },
      "source": [
        "## Normalise the dataset\n",
        "\n",
        "Now we have to Normalise the dataset as the pixel value of the greyscale images is in integral range `[0,255]`. But the model works properly in the decimal value in the range `[0,1]`. So creating a normalizing function which does this work of conversion from integer range `[0,255]` to decimal range `[0,1]`."
      ]
    },
    {
      "cell_type": "code",
      "metadata": {
        "id": "FJRxix4bW1j1"
      },
      "source": [
        "def normalize(images, labels):\n",
        "  images = tf.cast(images, tf.float32)\n",
        "  images /= 255\n",
        "  return images, labels\n",
        "\n",
        "# The map function applies the normalize function to each element in the train\n",
        "# and test datasets\n",
        "train_dataset =  train_dataset.map(normalize)\n",
        "test_dataset  =  test_dataset.map(normalize)\n",
        "\n",
        "# The first time you use the dataset, the images will be loaded from disk\n",
        "# Caching will keep them in memory, making training faster\n",
        "train_dataset =  train_dataset.cache()\n",
        "test_dataset  =  test_dataset.cache()"
      ],
      "execution_count": 6,
      "outputs": []
    },
    {
      "cell_type": "markdown",
      "metadata": {
        "id": "gtfeS07XW1j1"
      },
      "source": [
        "## Exploring the dataset\n",
        "Let's plot an image to see what it looks like."
      ]
    },
    {
      "cell_type": "code",
      "metadata": {
        "colab": {
          "base_uri": "https://localhost:8080/",
          "height": 283
        },
        "id": "wVh-Lg9DW1j1",
        "outputId": "04481f14-c46d-4d33-8cff-1e2c4b8d733b"
      },
      "source": [
        "# Take a single image, and remove the color dimension by reshaping\n",
        "for image, label in test_dataset.take(randint(0, 100)):\n",
        "  pass\n",
        "image = image.numpy().reshape((28,28))\n",
        "# Plot the image\n",
        "plt.figure()\n",
        "plt.imshow(image, cmap=plt.cm.binary)\n",
        "plt.colorbar()\n",
        "plt.grid(False)\n",
        "plt.xlabel(class_names[label])\n",
        "plt.show()"
      ],
      "execution_count": 7,
      "outputs": [
        {
          "output_type": "display_data",
          "data": {
            "image/png": "[encoded data removed]",
            "text/plain": [
              "<Figure size 432x288 with 2 Axes>"
            ]
          },
          "metadata": {
            "needs_background": "light"
          }
        }
      ]
    },
    {
      "cell_type": "markdown",
      "metadata": {
        "id": "rDSCmkRIW1j1"
      },
      "source": [
        "Displaying the first 25 images from the training dataset and display the class name below each image."
      ]
    },
    {
      "cell_type": "code",
      "metadata": {
        "colab": {
          "base_uri": "https://localhost:8080/",
          "height": 589
        },
        "id": "fnf67mozW1j2",
        "outputId": "9a062484-4b2b-43fd-d751-cbd891f99ed6"
      },
      "source": [
        "plt.figure(figsize=(10,10))\n",
        "i = 0\n",
        "for (image, label) in test_dataset.take(25):\n",
        "    image = image.numpy().reshape((28,28))\n",
        "    plt.subplot(5,5,i+1)\n",
        "    plt.xticks([])\n",
        "    plt.yticks([])\n",
        "    plt.grid(False)\n",
        "    plt.imshow(image, cmap=plt.cm.binary)\n",
        "    plt.xlabel(class_names[label])\n",
        "    i += 1\n",
        "plt.show()"
      ],
      "execution_count": 10,
      "outputs": [
        {
          "output_type": "display_data",
          "data": {
            "image/png": "[encoded data removed]",
            "text/plain": [
              "<Figure size 720x720 with 25 Axes>"
            ]
          },
          "metadata": {}
        }
      ]
    },
    {
      "cell_type": "markdown",
      "metadata": {
        "id": "4Oi0gwXxW1j2"
      },
      "source": [
        "## Creating the Model\n",
        "1. Now first using the `tf.keras.Sequential` which works as a wrapper for all the layers of the CNN.\n",
        "2. The first layer is a `Conv2D` with kernal (3,3) which gives 32 convoluted images.\n",
        "3. The second layer is a `MaxPooling2D` (2,2) with a stride of 2 which reduce the size of the 32 images\n",
        "4. The third layer of `Conv2D` with kernal (3,3) takes 32 MaxPooled images and output further 64 convoluted images.\n",
        "5. In the fourth layer we are using the same second layer of `MaxPooling`.\n",
        "6. In the fifth layer we `flattening` out the image with gives out a pixel matrix of (1,128)\n",
        "7. In the sixth layer we are passing the flattened image into a `relu` activation function.\n",
        "8. In the last seventh layer we are passing the relu activated flattened image into one more activation function that is `softmax`."
      ]
    },
    {
      "cell_type": "code",
      "metadata": {
        "id": "rrCUZpU2W1j2"
      },
      "source": [
        "model = tf.keras.Sequential([\n",
        "    tf.keras.layers.Conv2D(32, (3,3), padding='same', activation=tf.nn.relu,\n",
        "                           input_shape=(28, 28, 1)),\n",
        "    tf.keras.layers.MaxPooling2D((2, 2), strides=2),\n",
        "    tf.keras.layers.Conv2D(64, (3,3), padding='same', activation=tf.nn.relu),\n",
        "    tf.keras.layers.MaxPooling2D((2, 2), strides=2),\n",
        "    tf.keras.layers.Flatten(),\n",
        "    tf.keras.layers.Dense(128, activation=tf.nn.relu),\n",
        "    tf.keras.layers.Dense(10, activation=tf.nn.softmax)\n",
        "])"
      ],
      "execution_count": 11,
      "outputs": []
    },
    {
      "cell_type": "markdown",
      "metadata": {
        "id": "tw3pnuxbW1j3"
      },
      "source": [
        "Now compiling the model with sime extra parameters for the training.\n",
        "\n",
        "We are using `Adam` as the optimizer, `Sparse Categorical Cross Entropy` as the loss function and `Accuracy` as training matric."
      ]
    },
    {
      "cell_type": "code",
      "metadata": {
        "id": "yHoLd_sYW1j4"
      },
      "source": [
        "model.compile(optimizer='adam',\n",
        "              loss=tf.keras.losses.SparseCategoricalCrossentropy(),\n",
        "              metrics=['accuracy'])"
      ],
      "execution_count": 12,
      "outputs": []
    },
    {
      "cell_type": "markdown",
      "metadata": {
        "id": "uA-ZWNlxW1j4"
      },
      "source": [
        "Now defining the batches for training."
      ]
    },
    {
      "cell_type": "code",
      "metadata": {
        "id": "7Pa8sX5uW1j4"
      },
      "source": [
        "BATCH_SIZE = 32\n",
        "train_dataset = train_dataset.cache().repeat().shuffle(num_train_examples).batch(BATCH_SIZE)\n",
        "test_dataset = test_dataset.cache().batch(BATCH_SIZE)"
      ],
      "execution_count": 13,
      "outputs": []
    },
    {
      "cell_type": "markdown",
      "metadata": {
        "id": "7GY_Ya97W1j4"
      },
      "source": [
        "Defining the path to the file storing weights and bias value for the trianed model."
      ]
    },
    {
      "cell_type": "code",
      "metadata": {
        "id": "H4mdKmqFW1j4"
      },
      "source": [
        "checkpoint_path = \"model/weights.ckpt\"\n",
        "checkpoint_dir = os.path.dirname(checkpoint_path)"
      ],
      "execution_count": 14,
      "outputs": []
    },
    {
      "cell_type": "markdown",
      "metadata": {
        "id": "yiX9beLDW1j4"
      },
      "source": [
        "Initialising the checkpoint function"
      ]
    },
    {
      "cell_type": "code",
      "metadata": {
        "id": "Rct6x12WW1j4"
      },
      "source": [
        "cp_callback = tf.keras.callbacks.ModelCheckpoint(filepath=checkpoint_path,\n",
        "                                                 save_weights_only=True,\n",
        "                                                 verbose=1)"
      ],
      "execution_count": 15,
      "outputs": []
    },
    {
      "cell_type": "markdown",
      "metadata": {
        "id": "IlHScSz4W1j5"
      },
      "source": [
        "## Tring the model or not\n",
        "\n",
        "Here you have to tell wether you want to train the model from scratch or use the parameters of a trained model.\n",
        "\n",
        "Set the `train` variable below as `True` if you want train or set it to `False` if you want to use trained model. (False by default)"
      ]
    },
    {
      "cell_type": "code",
      "metadata": {
        "id": "TEmSs0wZW1j5"
      },
      "source": [
        "train = False"
      ],
      "execution_count": 16,
      "outputs": []
    },
    {
      "cell_type": "markdown",
      "metadata": {
        "id": "LAQvehsVW1j5"
      },
      "source": [
        "#### Defining some important funtion to download files from Google Drive."
      ]
    },
    {
      "cell_type": "code",
      "metadata": {
        "id": "lz6nzYw_W1j5"
      },
      "source": [
        "def download_file_from_google_drive(id, destination):\n",
        "    URL = \"https://docs.google.com/uc?export=download\"\n",
        "\n",
        "    session = requests.Session()\n",
        "\n",
        "    response = session.get(URL, params = { 'id' : id }, stream = True)\n",
        "    token = get_confirm_token(response)\n",
        "\n",
        "    if token:\n",
        "        params = { 'id' : id, 'confirm' : token }\n",
        "        response = session.get(URL, params = params, stream = True)\n",
        "\n",
        "    save_response_content(response, destination)\n",
        "\n",
        "def get_confirm_token(response):\n",
        "    for key, value in response.cookies.items():\n",
        "        if key.startswith('download_warning'):\n",
        "            return value\n",
        "\n",
        "    return None\n",
        "\n",
        "def save_response_content(response, destination):\n",
        "    CHUNK_SIZE = 32768\n",
        "\n",
        "    with open(destination, \"wb\") as f:\n",
        "        for chunk in response.iter_content(CHUNK_SIZE):\n",
        "            if chunk: # filter out keep-alive new chunks\n",
        "                f.write(chunk)"
      ],
      "execution_count": 17,
      "outputs": []
    },
    {
      "cell_type": "markdown",
      "metadata": {
        "id": "dB0QFu4vW1j5"
      },
      "source": [
        "If the `train` variable is set to False then downloading the parameters of trained model from my google frive in from of zip file and then unzipping the file."
      ]
    },
    {
      "cell_type": "code",
      "metadata": {
        "id": "fifzd_tiW1j5"
      },
      "source": [
        "if not train:\n",
        "    file_id = '10yJdhCUbNBHqfkGmtP--9F9l0SC6LOLS'\n",
        "    destination = 'data.zip'\n",
        "    download_file_from_google_drive(file_id, destination)\n",
        "    \n",
        "    with zipfile.ZipFile(\"data.zip\",\"r\") as zip_ref:\n",
        "        zip_ref.extractall(\".\")\n",
        "\n",
        "    os.remove('data.zip')"
      ],
      "execution_count": 18,
      "outputs": []
    },
    {
      "cell_type": "markdown",
      "metadata": {
        "id": "RsIRlFfoW1j5"
      },
      "source": [
        "#### Here if the `train` vaiable is set to True then calling the `model.fit()` function to trin the model from sctatch for 10 epochs and if the `train` variable is set to False then calling the `model.load_weights()` function to load the parameters of trained model."
      ]
    },
    {
      "cell_type": "code",
      "metadata": {
        "id": "kCNM_IueW1j6"
      },
      "source": [
        "if train:\n",
        "    model.fit(train_dataset, epochs=10, steps_per_epoch=math.ceil(num_train_examples/BATCH_SIZE), callbacks=[cp_callback])\n",
        "else:\n",
        "    model.load_weights(checkpoint_path)"
      ],
      "execution_count": 19,
      "outputs": []
    },
    {
      "cell_type": "markdown",
      "metadata": {
        "id": "FVP15RxWW1j6"
      },
      "source": [
        "#### Now lets Evaluate the model and check its accuracy"
      ]
    },
    {
      "cell_type": "code",
      "metadata": {
        "colab": {
          "base_uri": "https://localhost:8080/"
        },
        "id": "ltOkRNwDW1j6",
        "outputId": "e5b99ee2-5d20-4b3b-c1c6-a015c4bb426b"
      },
      "source": [
        "test_loss, test_accuracy = model.evaluate(test_dataset, steps=math.ceil(num_test_examples/32))\n",
        "print('Accuracy on test dataset:', test_accuracy)"
      ],
      "execution_count": 20,
      "outputs": [
        {
          "output_type": "stream",
          "name": "stdout",
          "text": [
            "313/313 [==============================] - 7s 19ms/step - loss: 0.7108 - accuracy: 0.9190\n",
            "Accuracy on test dataset: 0.9190000295639038\n"
          ]
        }
      ]
    },
    {
      "cell_type": "markdown",
      "metadata": {
        "id": "RLX4UMB6W1j6"
      },
      "source": [
        "## Predections of our model\n",
        "\n",
        "Here I have defined a `predict()` function which first takes a random batch number in range (1, 10) and then a random image number in range (0,31) as each batch is of size 32. Then we pass the image into the `model.predict` function which gives the predections of of probability of each clothing item. Then we just print the image, its original label and the predicted label with highest percentage."
      ]
    },
    {
      "cell_type": "code",
      "metadata": {
        "id": "XytqT0IqW1j6"
      },
      "source": [
        "def predict():\n",
        "    rand_batch = randint(1, 10)\n",
        "    rand_pos = randint(0, 31)\n",
        "    for test_images, test_labels in test_dataset.take(rand_batch):\n",
        "        test_images = test_images.numpy()\n",
        "        test_labels = test_labels.numpy()\n",
        "\n",
        "    predictions = model.predict(test_images)\n",
        "    predicated_percentage = {}\n",
        "    for i in range(len(predictions[rand_pos])):\n",
        "        predicated_percentage[(np.round(predictions[rand_pos][i], decimals = 4) / 1) * 100] = i\n",
        "\n",
        "    predicated_percentage_sorted = sorted(predicated_percentage, reverse=True)[:-1] \n",
        "    \n",
        "    first = True\n",
        "\n",
        "    print(\"Label:      \" + \"\\x1B[32m%s\\x1b[0m\" % class_names[test_labels[rand_pos]])\n",
        "\n",
        "    for i in predicated_percentage_sorted:\n",
        "        if first:\n",
        "            if class_names[predicated_percentage[i]] == class_names[test_labels[rand_pos]]:\n",
        "                print(\"Predicted: \", \"\\x1B[32m%s\\x1b[0m\" % (class_names[predicated_percentage[i]] + \" \" + str(np.round(i, decimals = 2)) + \"%\"), end = \"\")\n",
        "            else:\n",
        "                print(\"Predicted: \", \"\\x1B[31m%s\\x1b[0m\" % (class_names[predicated_percentage[i]] + \" \" + str(np.round(i, decimals = 2)) + \"%\"), end = \"\")\n",
        "            first = False\n",
        "        else:\n",
        "            print(\", \" + class_names[predicated_percentage[i]] + \" \" + str(np.round(i, decimals = 2)) + \"% \", end = \"\")\n",
        "\n",
        "    plt.figure()\n",
        "    image = test_images[rand_pos].reshape((28,28))\n",
        "    plt.imshow(image, cmap=plt.cm.binary)\n",
        "    plt.colorbar()\n",
        "    plt.grid(False)\n",
        "    plt.show()"
      ],
      "execution_count": 21,
      "outputs": []
    },
    {
      "cell_type": "markdown",
      "metadata": {
        "id": "b34D0jvpW1j6"
      },
      "source": [
        "#### Just call the `predict()` function do predicition on random image."
      ]
    },
    {
      "cell_type": "code",
      "metadata": {
        "colab": {
          "base_uri": "https://localhost:8080/",
          "height": 300
        },
        "id": "DqdNJHv6W1j7",
        "outputId": "a394a29c-8a8c-4c9b-f9a0-741ddc0d38b2"
      },
      "source": [
        "predict()"
      ],
      "execution_count": 22,
      "outputs": [
        {
          "output_type": "stream",
          "name": "stdout",
          "text": [
            "Label:      \u001b[32mTrouser\u001b[0m\n",
            "Predicted:  \u001b[32mTrouser 100.0%\u001b[0m"
          ]
        },
        {
          "output_type": "display_data",
          "data": {
            "image/png": "[encoded data removed]",
            "text/plain": [
              "<Figure size 432x288 with 2 Axes>"
            ]
          },
          "metadata": {
            "needs_background": "light"
          }
        }
      ]
    },
    {
      "cell_type": "code",
      "metadata": {
        "colab": {
          "base_uri": "https://localhost:8080/",
          "height": 305
        },
        "id": "LumE_q_dW1j7",
        "outputId": "a9398e0a-0a92-4520-9c55-4ede680fcade"
      },
      "source": [
        "predict()"
      ],
      "execution_count": 23,
      "outputs": [
        {
          "output_type": "stream",
          "name": "stdout",
          "text": [
            "Label:      \u001b[32mSneaker\u001b[0m\n",
            "Predicted:  \u001b[32mSneaker 100.0%\u001b[0m"
          ]
        },
        {
          "output_type": "display_data",
          "data": {
            "image/png": "[encoded data removed]",
            "text/plain": [
              "<Figure size 432x288 with 2 Axes>"
            ]
          },
          "metadata": {
            "needs_background": "light"
          }
        }
      ]
    },
    {
      "cell_type": "code",
      "metadata": {
        "colab": {
          "base_uri": "https://localhost:8080/",
          "height": 305
        },
        "id": "q3GNQSc3W1j7",
        "outputId": "6e212701-6500-4ef4-bb42-a40d55bfc2ba"
      },
      "source": [
        "predict()"
      ],
      "execution_count": 24,
      "outputs": [
        {
          "output_type": "stream",
          "name": "stdout",
          "text": [
            "Label:      \u001b[32mPullover\u001b[0m\n",
            "Predicted:  \u001b[32mPullover 100.0%\u001b[0m"
          ]
        },
        {
          "output_type": "display_data",
          "data": {
            "image/png": "[encoded data removed]",
            "text/plain": [
              "<Figure size 432x288 with 2 Axes>"
            ]
          },
          "metadata": {
            "needs_background": "light"
          }
        }
      ]
    },
    {
      "cell_type": "markdown",
      "metadata": {
        "id": "O1LqSo1vW1j7"
      },
      "source": [
        "#### Now in the blow code we are showing the image and plotting the graph of possibility of each cloting item. `plot_image` function shows the image and `plot_value_array` shows the graph and `plot_prediction` function does the prediction."
      ]
    },
    {
      "cell_type": "code",
      "metadata": {
        "id": "pIBZ8xMmW1j7"
      },
      "source": [
        "def plot_image(i, predictions_array, true_labels, images):\n",
        "  predictions_array, true_label, img = predictions_array[i], true_labels[i], images[i]\n",
        "  plt.grid(False)\n",
        "  plt.xticks([])\n",
        "  plt.yticks([])\n",
        "  \n",
        "  plt.imshow(img[...,0], cmap=plt.cm.binary)\n",
        "\n",
        "  predicted_label = np.argmax(predictions_array)\n",
        "  if predicted_label == true_label:\n",
        "    color = 'blue'\n",
        "  else:\n",
        "    color = 'red'\n",
        "  \n",
        "  plt.xlabel(\"{} {:2.0f}% ({})\".format(class_names[predicted_label],\n",
        "                                100*np.max(predictions_array),\n",
        "                                class_names[true_label]),\n",
        "                                color=color)\n",
        "\n",
        "def plot_value_array(i, predictions_array, true_label):\n",
        "  predictions_array, true_label = predictions_array[i], true_label[i]\n",
        "  plt.grid(False)\n",
        "  plt.xticks([])\n",
        "  plt.yticks([])\n",
        "  thisplot = plt.bar(range(10), predictions_array, color=\"#777777\")\n",
        "  plt.ylim([0, 1])\n",
        "  predicted_label = np.argmax(predictions_array)\n",
        "  \n",
        "  thisplot[predicted_label].set_color('red')\n",
        "  thisplot[true_label].set_color('blue')\n",
        "\n",
        "def plot_prediction():\n",
        "    rand_batch = randint(1, 10)\n",
        "    for test_images, test_labels in test_dataset.take(rand_batch):\n",
        "        test_images = test_images.numpy()\n",
        "        test_labels = test_labels.numpy()\n",
        "\n",
        "    prediction = model.predict(test_images)\n",
        "    i = randint(0, 10)\n",
        "    plt.figure(figsize=(10,5))\n",
        "    plt.subplot(1,2,1)\n",
        "    plot_image(i, prediction, test_labels, test_images)\n",
        "    plt.subplot(1,2,2)\n",
        "    plot_value_array(i, prediction, test_labels)\n",
        "    _ = plt.xticks(range(10), class_names, rotation=45)"
      ],
      "execution_count": 25,
      "outputs": []
    },
    {
      "cell_type": "code",
      "metadata": {
        "colab": {
          "base_uri": "https://localhost:8080/",
          "height": 354
        },
        "id": "GIx2h1m4W1j7",
        "outputId": "38fe7b07-613e-45dc-f803-5a237590f8ab"
      },
      "source": [
        "plot_prediction()"
      ],
      "execution_count": 26,
      "outputs": [
        {
          "output_type": "display_data",
          "data": {
            "image/png": "[encoded data removed]",
            "text/plain": [
              "<Figure size 720x360 with 2 Axes>"
            ]
          },
          "metadata": {
            "needs_background": "light"
          }
        }
      ]
    },
    {
      "cell_type": "code",
      "metadata": {
        "colab": {
          "base_uri": "https://localhost:8080/",
          "height": 354
        },
        "id": "vee3kSNYW1j7",
        "outputId": "b9e2a4b9-64c6-4c36-b947-44d77a2e63d6"
      },
      "source": [
        "plot_prediction()"
      ],
      "execution_count": 27,
      "outputs": [
        {
          "output_type": "display_data",
          "data": {
            "image/png": "[encoded data removed]",
            "text/plain": [
              "<Figure size 720x360 with 2 Axes>"
            ]
          },
          "metadata": {
            "needs_background": "light"
          }
        }
      ]
    },
    {
      "cell_type": "code",
      "metadata": {
        "colab": {
          "base_uri": "https://localhost:8080/",
          "height": 354
        },
        "id": "CPoiu2QwW1j8",
        "outputId": "95d8b0c0-f0ce-42e6-d4df-970c90639063"
      },
      "source": [
        "plot_prediction()"
      ],
      "execution_count": 35,
      "outputs": [
        {
          "output_type": "display_data",
          "data": {
            "image/png": "[encoded data removed]",
            "text/plain": [
              "<Figure size 720x360 with 2 Axes>"
            ]
          },
          "metadata": {
            "needs_background": "light"
          }
        }
      ]
    },
    {
      "cell_type": "markdown",
      "metadata": {
        "id": "MkGbTSIYW1j8"
      },
      "source": [
        "## Thank You 😇\n",
        "\n"
      ]
    },
    {
      "cell_type": "code",
      "metadata": {
        "id": "fCm0RthiW1j8"
      },
      "source": [
        ""
      ],
      "execution_count": null,
      "outputs": []
    }
  ]
}